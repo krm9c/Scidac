{
 "cells": [
  {
   "cell_type": "code",
   "execution_count": null,
   "metadata": {},
   "outputs": [],
   "source": [
    "from test_models import *\n",
    "\n",
    "mp.set_start_method('spawn')\n",
    "use_cuda = torch.cuda.is_available()\n",
    "use_cuda = True\n",
    "if use_cuda:\n",
    "    devices = [torch.device('cuda:%d' % i) for i in range(torch.cuda.device_count())]\n",
    "    num_devices = len(devices)\n",
    "    num_processes = num_devices\n",
    "else:\n",
    "    num_processes = 1\n",
    "    devices = [torch.device('cpu')] * num_processes\n",
    "    num_devices = len(devices)\n",
    "print(F'use_cuda = {use_cuda}, num_devices = {num_devices}, num_processes = {num_processes}', flush=True)\n",
    "\n",
    "odes = []\n",
    "n_models__ = 100\n",
    "for i in range(n_models__):\n",
    "    odes.append(ODEVAE(2, 128, 6))\n",
    "X = np.load('data/processed_extrapolation.npy', allow_pickle=True)\n",
    "plot_homega_average_(n_models__, X, odes)\n",
    "plot_model_averaged_(n_models__, X, odes)"
   ]
  }
 ],
 "metadata": {
  "language_info": {
   "name": "python"
  },
  "orig_nbformat": 4
 },
 "nbformat": 4,
 "nbformat_minor": 2
}
